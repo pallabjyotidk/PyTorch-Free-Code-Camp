{
  "nbformat": 4,
  "nbformat_minor": 0,
  "metadata": {
    "colab": {
      "name": "Getting Started with PyTorch.ipynb",
      "provenance": [],
      "authorship_tag": "ABX9TyOMGvylTPt/ByWeWubfzTTN",
      "include_colab_link": true
    },
    "kernelspec": {
      "name": "python3",
      "display_name": "Python 3"
    },
    "accelerator": "GPU"
  },
  "cells": [
    {
      "cell_type": "markdown",
      "metadata": {
        "id": "view-in-github",
        "colab_type": "text"
      },
      "source": [
        "<a href=\"https://colab.research.google.com/github/pallabjyotidk/PyTorch-Free-Code-Camp/blob/main/Linear_Regression.ipynb\" target=\"_parent\"><img src=\"https://colab.research.google.com/assets/colab-badge.svg\" alt=\"Open In Colab\"/></a>"
      ]
    },
    {
      "cell_type": "markdown",
      "metadata": {
        "id": "A_GBOYfJRoC5"
      },
      "source": [
        "## Introduction to Linear Regression"
      ]
    },
    {
      "cell_type": "markdown",
      "metadata": {
        "id": "OtxBX_0cVzhz"
      },
      "source": [
        "In this tutorial, we'll discuss one of the foundational algorithms in machine learning: Linear regression. We'll create a model that predicts crop yields for apples and oranges (target variables) by looking at the average temperature, rainfall, and humidity (input variables or features) in a region."
      ]
    },
    {
      "cell_type": "code",
      "metadata": {
        "id": "c28ivx1VRzIT"
      },
      "source": [
        "import numpy as np\r\n",
        "import torch"
      ],
      "execution_count": null,
      "outputs": []
    },
    {
      "cell_type": "code",
      "metadata": {
        "id": "-IZDkF_QUITY"
      },
      "source": [
        "# Inputs are: temp, rainfall, humidity\r\n",
        "\r\n",
        "inputs = np.array([[73, 67, 43],\r\n",
        "                   [91, 88, 64],\r\n",
        "                   [87, 134, 58],\r\n",
        "                   [102,43,37],\r\n",
        "                   [69,96,70]], dtype = 'float32')"
      ],
      "execution_count": null,
      "outputs": []
    },
    {
      "cell_type": "code",
      "metadata": {
        "id": "inXmDrMwU-Ja"
      },
      "source": [
        "# Targets are: apples, oranges\r\n",
        "\r\n",
        "targets = np.array([[56, 70], \r\n",
        "                    [81, 101], \r\n",
        "                    [119, 133], \r\n",
        "                    [22, 37], \r\n",
        "                    [103, 119]], dtype='float32')"
      ],
      "execution_count": null,
      "outputs": []
    },
    {
      "cell_type": "code",
      "metadata": {
        "colab": {
          "base_uri": "https://localhost:8080/"
        },
        "id": "9vlGGF9WVKXU",
        "outputId": "652a720f-b08c-4610-828d-e14972ec690e"
      },
      "source": [
        "# Convert inputs and targets to tensors\r\n",
        "\r\n",
        "inputs = torch.from_numpy(inputs)\r\n",
        "targets = torch.from_numpy(targets)\r\n",
        "\r\n",
        "print(inputs)\r\n",
        "print(targets)"
      ],
      "execution_count": null,
      "outputs": [
        {
          "output_type": "stream",
          "text": [
            "tensor([[ 73.,  67.,  43.],\n",
            "        [ 91.,  88.,  64.],\n",
            "        [ 87., 134.,  58.],\n",
            "        [102.,  43.,  37.],\n",
            "        [ 69.,  96.,  70.]])\n",
            "tensor([[ 56.,  70.],\n",
            "        [ 81., 101.],\n",
            "        [119., 133.],\n",
            "        [ 22.,  37.],\n",
            "        [103., 119.]])\n"
          ],
          "name": "stdout"
        }
      ]
    },
    {
      "cell_type": "markdown",
      "metadata": {
        "id": "_K_bE_ocWSol"
      },
      "source": [
        "The weights and biases `(w11, w12,... w23, b1 & b2)` can also be represented as matrices, initialized as random values. The first row of `w` and the first element of `b` are used to predict the first target variable, i.e., yield of apples, and similarly, the second for oranges."
      ]
    },
    {
      "cell_type": "code",
      "metadata": {
        "colab": {
          "base_uri": "https://localhost:8080/"
        },
        "id": "HIsQnI2KWaUt",
        "outputId": "32ecfbc3-66f5-437b-d7d9-9bd7cc2ffb25"
      },
      "source": [
        "# Weights and Biases\r\n",
        "\r\n",
        "w = torch.randn(2, 3, requires_grad=True)\r\n",
        "b = torch.randn(2, requires_grad=True)\r\n",
        "print(w)\r\n",
        "print(b)"
      ],
      "execution_count": null,
      "outputs": [
        {
          "output_type": "stream",
          "text": [
            "tensor([[-0.3272, -0.9931, -0.8553],\n",
            "        [-0.6031, -0.7307,  0.7519]], requires_grad=True)\n",
            "tensor([-0.5350,  0.2470], requires_grad=True)\n"
          ],
          "name": "stdout"
        }
      ]
    },
    {
      "cell_type": "markdown",
      "metadata": {
        "id": "Tlj8rfpZXAbI"
      },
      "source": [
        "Our model should compute:\r\n",
        "  `X x W' + b` (where W' indicates W transpose)"
      ]
    },
    {
      "cell_type": "code",
      "metadata": {
        "id": "ni98b8xCXTGs"
      },
      "source": [
        "def model(x):\r\n",
        "  return x.matmul(w.t()) + b\r\n",
        "  # same as return x @ w.t() + b"
      ],
      "execution_count": null,
      "outputs": []
    },
    {
      "cell_type": "code",
      "metadata": {
        "colab": {
          "base_uri": "https://localhost:8080/"
        },
        "id": "YrJCD4CdXsSz",
        "outputId": "e86262d8-b265-436d-f553-e8aa756e9ca7"
      },
      "source": [
        "# Generate predictions\r\n",
        "preds = model(inputs)\r\n",
        "print(preds)"
      ],
      "execution_count": null,
      "outputs": [
        {
          "output_type": "stream",
          "text": [
            "tensor([[-127.7376,  -60.4024],\n",
            "        [-172.4438,  -70.8125],\n",
            "        [-211.6869, -106.5228],\n",
            "        [-108.2605,  -64.8669],\n",
            "        [-178.3215,  -58.8788]], grad_fn=<AddBackward0>)\n"
          ],
          "name": "stdout"
        }
      ]
    },
    {
      "cell_type": "code",
      "metadata": {
        "colab": {
          "base_uri": "https://localhost:8080/"
        },
        "id": "0kVpGMdzYEnp",
        "outputId": "c4dabc71-c16b-45dc-e373-01143fa2e259"
      },
      "source": [
        "print(targets)"
      ],
      "execution_count": null,
      "outputs": [
        {
          "output_type": "stream",
          "text": [
            "tensor([[ 56.,  70.],\n",
            "        [ 81., 101.],\n",
            "        [119., 133.],\n",
            "        [ 22.,  37.],\n",
            "        [103., 119.]])\n"
          ],
          "name": "stdout"
        }
      ]
    },
    {
      "cell_type": "markdown",
      "metadata": {
        "id": "MFElrck9wGfW"
      },
      "source": [
        "## Loss Function\r\n",
        "We will use MSE Loss here.\r\n",
        "* Calculate the difference between two matrices `preds` and `targets`\r\n",
        "* Square all elements of the difference matrix to remove negative values.\r\n",
        "* Calculate the average of elemets in the resulting matrix."
      ]
    },
    {
      "cell_type": "code",
      "metadata": {
        "id": "NS6CVSyzwkoO"
      },
      "source": [
        "# MSE Loss\r\n",
        "def mse(t1, t2):\r\n",
        "  diff = t1 - t2\r\n",
        "  return torch.sum(diff * diff)/diff.numel()"
      ],
      "execution_count": null,
      "outputs": []
    },
    {
      "cell_type": "markdown",
      "metadata": {
        "id": "UQQKYGeMw_vp"
      },
      "source": [
        "`torch.sum` returns the sum of all the elements in a tensor. The `.numel` method of a tensor returns the number of elements in a tensor."
      ]
    },
    {
      "cell_type": "code",
      "metadata": {
        "colab": {
          "base_uri": "https://localhost:8080/"
        },
        "id": "1iLDwntaxFi2",
        "outputId": "2abf3723-0672-4aa2-d1f0-125cf6d8c1be"
      },
      "source": [
        "# Compute Loss\r\n",
        "loss = mse(preds, targets)\r\n",
        "print(loss)"
      ],
      "execution_count": null,
      "outputs": [
        {
          "output_type": "stream",
          "text": [
            "tensor(44936.9883, grad_fn=<DivBackward0>)\n"
          ],
          "name": "stdout"
        }
      ]
    },
    {
      "cell_type": "markdown",
      "metadata": {
        "id": "48giA3e0xgOG"
      },
      "source": [
        "## Compute Gradients\r\n",
        "With PyTorch, we can automatically compute the gradient or derivative of the loss w.r.t. to the weights and biases because they have `requires_grad` set to `True`.\r\n",
        "The gradients are stored in the `.grad` property of the respective tensors. Note that the derivative of the loss w.r.t. the weights matrix is itself a matrix with the same dimensions."
      ]
    },
    {
      "cell_type": "code",
      "metadata": {
        "colab": {
          "base_uri": "https://localhost:8080/"
        },
        "id": "4noCsFrnx6b1",
        "outputId": "7ab45861-8df3-4a7a-ffc3-b16c1d4580db"
      },
      "source": [
        "# Compute Gradients\r\n",
        "loss.backward()\r\n",
        "# Gradients for weights\r\n",
        "print(w)\r\n",
        "print(w.grad)"
      ],
      "execution_count": null,
      "outputs": [
        {
          "output_type": "stream",
          "text": [
            "tensor([[-0.3272, -0.9931, -0.8553],\n",
            "        [-0.6031, -0.7307,  0.7519]], requires_grad=True)\n",
            "tensor([[-19588.7500, -22306.7168, -13562.6211],\n",
            "        [-13731.3711, -15481.8311,  -9343.2432]])\n"
          ],
          "name": "stdout"
        }
      ]
    },
    {
      "cell_type": "markdown",
      "metadata": {
        "id": "IuvubzQtyY7S"
      },
      "source": [
        "## Adjust weights and biases to reduce the loss\r\n",
        "The loss is a quadratic function of our weights and biases, and our objective is to find the set of weights where the loss is the lowest. If we plot a graph of the loss w.r.t any individual weight or bias element, it will look like the figure shown below. An important insight from calculus is that the gradient indicates the rate of change of the loss, i.e., the loss function's slope w.r.t. the weights and biases.\r\n",
        "\r\n",
        "If a gradient element is **positive**:\r\n",
        "\r\n",
        "* **increasing** the weight element's value slightly will increase the loss\r\n",
        "* **decreasing** the weight element's value slightly will decrease the loss\r\n",
        "\r\n",
        "If a gradient element is **negative**:\r\n",
        "\r\n",
        "* **increasing** the weight element's value slightly will decrease the loss\r\n",
        "* **decreasing** the weight element's value slightly will increase the loss.\r\n",
        "\r\n",
        "The increase or decrease in the loss by changing a weight element is proportional to the gradient of the loss w.r.t. that element. This observation forms the basis of the *gradient descent optimization* algorithm that we'll use to improve our model (by **descending along the gradient**).\r\n"
      ]
    },
    {
      "cell_type": "code",
      "metadata": {
        "id": "E4BhDpfnzJWy"
      },
      "source": [
        "with torch.no_grad():\r\n",
        "  w -= w.grad * 1e-5\r\n",
        "  b -= b.grad * 1e-5"
      ],
      "execution_count": null,
      "outputs": []
    },
    {
      "cell_type": "markdown",
      "metadata": {
        "id": "tIL1XlMYzn4U"
      },
      "source": [
        "We use `torch.no_grad` to indicate to PyTorch that we shouldn't track, calculate, or modify gradients while updating the weights and biases."
      ]
    },
    {
      "cell_type": "code",
      "metadata": {
        "id": "dgoDUCWYzssI",
        "colab": {
          "base_uri": "https://localhost:8080/"
        },
        "outputId": "e7f2f7ba-de86-42c3-8af9-e3131557d2b7"
      },
      "source": [
        "w.grad.zero_()\r\n",
        "b.grad.zero_()"
      ],
      "execution_count": null,
      "outputs": [
        {
          "output_type": "execute_result",
          "data": {
            "text/plain": [
              "tensor([0., 0.])"
            ]
          },
          "metadata": {
            "tags": []
          },
          "execution_count": 14
        }
      ]
    },
    {
      "cell_type": "markdown",
      "metadata": {
        "id": "6aDdMMAz0Nge"
      },
      "source": [
        "Before we proceed, we reset the gradients to zero by invoking the `.zero_()` method. We need to do this because PyTorch accumulates gradients. Otherwise, the next time we invoke `.backward` on the loss, the new gradient values are added to the existing gradients, which may lead to unexpected results."
      ]
    },
    {
      "cell_type": "markdown",
      "metadata": {
        "id": "H6c3j3WR00YG"
      },
      "source": [
        "## Train the model using gradient descent\r\n",
        "As seen above, we reduce the loss and improve our model using the gradient descent optimization algorithm. Thus, we can *train* the model using the following steps:\r\n",
        "\r\n",
        "1. Generate predictions\r\n",
        "\r\n",
        "2. Calculate the loss\r\n",
        "\r\n",
        "3. Compute gradients w.r.t the weights and biases\r\n",
        "\r\n",
        "4. Adjust the weights by subtracting a small quantity proportional to the gradient\r\n",
        "\r\n",
        "5. Reset the gradients to zero\r\n",
        "\r\n"
      ]
    },
    {
      "cell_type": "code",
      "metadata": {
        "id": "jFH_mcH80Wwt"
      },
      "source": [
        "# Generate predictions\r\n",
        "preds = model(inputs)"
      ],
      "execution_count": null,
      "outputs": []
    },
    {
      "cell_type": "code",
      "metadata": {
        "colab": {
          "base_uri": "https://localhost:8080/"
        },
        "id": "R7v0Wsui1KaZ",
        "outputId": "dc2eae72-6693-4256-f706-d49a68b8aa07"
      },
      "source": [
        "# Calculate the loss\r\n",
        "loss = mse(preds, targets)\r\n",
        "print(loss)"
      ],
      "execution_count": null,
      "outputs": [
        {
          "output_type": "stream",
          "text": [
            "tensor(30543.0410, grad_fn=<DivBackward0>)\n"
          ],
          "name": "stdout"
        }
      ]
    },
    {
      "cell_type": "code",
      "metadata": {
        "colab": {
          "base_uri": "https://localhost:8080/"
        },
        "id": "cuEZLVr51k7a",
        "outputId": "01c1c074-bbaa-47e8-cd8c-b907cf7c50ad"
      },
      "source": [
        "# Compute Gradients\r\n",
        "loss.backward()\r\n",
        "print(w.grad)\r\n",
        "print(b.grad)"
      ],
      "execution_count": null,
      "outputs": [
        {
          "output_type": "stream",
          "text": [
            "tensor([[-15964.5332, -18405.4336, -11156.7021],\n",
            "        [-11209.2852, -12767.9355,  -7669.4580]])\n",
            "tensor([-192.8822, -134.3706])\n"
          ],
          "name": "stdout"
        }
      ]
    },
    {
      "cell_type": "code",
      "metadata": {
        "colab": {
          "base_uri": "https://localhost:8080/"
        },
        "id": "9fB8HBFR1v5a",
        "outputId": "c574bf38-e760-49b6-f74f-95d033461b2e"
      },
      "source": [
        "# Adjust weights and reset gradients\r\n",
        "with torch.no_grad():\r\n",
        "  w -= w.grad * 1e-5\r\n",
        "  b -= b.grad * 1e-5\r\n",
        "\r\n",
        "# Reset gradients to zero\r\n",
        "w.grad.zero_()\r\n",
        "b.grad.zero_()"
      ],
      "execution_count": null,
      "outputs": [
        {
          "output_type": "execute_result",
          "data": {
            "text/plain": [
              "tensor([0., 0.])"
            ]
          },
          "metadata": {
            "tags": []
          },
          "execution_count": 18
        }
      ]
    },
    {
      "cell_type": "markdown",
      "metadata": {
        "id": "U1N7nRfe2r5U"
      },
      "source": [
        "## Train for multiple epochs"
      ]
    },
    {
      "cell_type": "code",
      "metadata": {
        "id": "jshCM4-x2wQZ"
      },
      "source": [
        "# Train for 100 epochs\r\n",
        "for i in range(100):\r\n",
        "  preds = model(inputs)\r\n",
        "  loss = mse(preds, targets)\r\n",
        "  loss.backward()\r\n",
        "  with torch.no_grad():\r\n",
        "    w -= w.grad * 1e-5\r\n",
        "    b -= b.grad * 1e-5\r\n",
        "    w.grad.zero_()\r\n",
        "    b.grad.zero_()"
      ],
      "execution_count": null,
      "outputs": []
    },
    {
      "cell_type": "code",
      "metadata": {
        "colab": {
          "base_uri": "https://localhost:8080/"
        },
        "id": "vgW89vLZxo9z",
        "outputId": "d0808139-edbb-4e6c-e52a-e4bca50f9a55"
      },
      "source": [
        "# Calculate Loss\r\n",
        "preds = model(inputs)\r\n",
        "loss = mse(preds, targets)\r\n",
        "print(loss)"
      ],
      "execution_count": null,
      "outputs": [
        {
          "output_type": "stream",
          "text": [
            "tensor(248.0520, grad_fn=<DivBackward0>)\n"
          ],
          "name": "stdout"
        }
      ]
    },
    {
      "cell_type": "markdown",
      "metadata": {
        "id": "Id5_y-YLyfTh"
      },
      "source": [
        "## Linear Regression using PyTorch Built-ins"
      ]
    },
    {
      "cell_type": "code",
      "metadata": {
        "id": "OwE4Twy2yqKm"
      },
      "source": [
        "import torch.nn as nn"
      ],
      "execution_count": null,
      "outputs": []
    },
    {
      "cell_type": "code",
      "metadata": {
        "id": "JtbKhg1yyuaF"
      },
      "source": [
        "# Input (temp, rainfall, humidity)\r\n",
        "inputs = np.array([[73, 67, 43], \r\n",
        "                   [91, 88, 64], \r\n",
        "                   [87, 134, 58], \r\n",
        "                   [102, 43, 37], \r\n",
        "                   [69, 96, 70], \r\n",
        "                   [74, 66, 43], \r\n",
        "                   [91, 87, 65], \r\n",
        "                   [88, 134, 59], \r\n",
        "                   [101, 44, 37], \r\n",
        "                   [68, 96, 71], \r\n",
        "                   [73, 66, 44], \r\n",
        "                   [92, 87, 64], \r\n",
        "                   [87, 135, 57], \r\n",
        "                   [103, 43, 36], \r\n",
        "                   [68, 97, 70]], \r\n",
        "                  dtype='float32')\r\n",
        "\r\n",
        "# Targets (apples, oranges)\r\n",
        "targets = np.array([[56, 70], \r\n",
        "                    [81, 101], \r\n",
        "                    [119, 133], \r\n",
        "                    [22, 37], \r\n",
        "                    [103, 119],\r\n",
        "                    [57, 69], \r\n",
        "                    [80, 102], \r\n",
        "                    [118, 132], \r\n",
        "                    [21, 38], \r\n",
        "                    [104, 118], \r\n",
        "                    [57, 69], \r\n",
        "                    [82, 100], \r\n",
        "                    [118, 134], \r\n",
        "                    [20, 38], \r\n",
        "                    [102, 120]], \r\n",
        "                   dtype='float32')\r\n",
        "\r\n",
        "inputs = torch.from_numpy(inputs)\r\n",
        "targets = torch.from_numpy(targets)"
      ],
      "execution_count": null,
      "outputs": []
    },
    {
      "cell_type": "markdown",
      "metadata": {
        "id": "RgFM_e6DzDLu"
      },
      "source": [
        "## Dataset and DataLoader\r\n",
        "We'll create a `TensorDataset`, which allows access to rows from `inputs` and `targets` as tuples, and provides standard APIs for working with many different types of datasets in PyTorch."
      ]
    },
    {
      "cell_type": "code",
      "metadata": {
        "id": "tXpgVQRQzMM7"
      },
      "source": [
        "from torch.utils.data import TensorDataset"
      ],
      "execution_count": null,
      "outputs": []
    },
    {
      "cell_type": "code",
      "metadata": {
        "colab": {
          "base_uri": "https://localhost:8080/"
        },
        "id": "wQQBmgQZzTdM",
        "outputId": "ae412918-9590-4edf-8a9f-04fd61f9322c"
      },
      "source": [
        "# Define Dataset\r\n",
        "train_ds =TensorDataset(inputs, targets)\r\n",
        "train_ds[0:3]"
      ],
      "execution_count": null,
      "outputs": [
        {
          "output_type": "execute_result",
          "data": {
            "text/plain": [
              "(tensor([[ 73.,  67.,  43.],\n",
              "         [ 91.,  88.,  64.],\n",
              "         [ 87., 134.,  58.]]), tensor([[ 56.,  70.],\n",
              "         [ 81., 101.],\n",
              "         [119., 133.]]))"
            ]
          },
          "metadata": {
            "tags": []
          },
          "execution_count": 27
        }
      ]
    },
    {
      "cell_type": "markdown",
      "metadata": {
        "id": "uZSjt9YaziJ8"
      },
      "source": [
        "The `TensorDataset` allows us to access a small section of the training data using the array indexing notation (`[0:3]` in the above code). It returns a tuple with two elements from `1st` to `3rd` row. The first element contains the input variables for the selected rows, and the second contains the targets.\r\n",
        "\r\n",
        "We'll also create a `DataLoader`, which can split the data into batches of a predefined size while training. It also provides other utilities like shuffling and random sampling of the data."
      ]
    },
    {
      "cell_type": "code",
      "metadata": {
        "id": "t8SiRFagz28q"
      },
      "source": [
        "from torch.utils.data import DataLoader"
      ],
      "execution_count": null,
      "outputs": []
    },
    {
      "cell_type": "code",
      "metadata": {
        "id": "GQTniWne2fTZ"
      },
      "source": [
        "# Define Data loader\r\n",
        "batch_size = 5\r\n",
        "train_dl = DataLoader(train_ds, batch_size, shuffle=True)"
      ],
      "execution_count": null,
      "outputs": []
    },
    {
      "cell_type": "code",
      "metadata": {
        "colab": {
          "base_uri": "https://localhost:8080/"
        },
        "id": "hOsu6tpG2xR3",
        "outputId": "2ea8f4cd-bcb4-48f0-a8b3-b1abcfbc4ecd"
      },
      "source": [
        "for xb, yb in train_dl:\r\n",
        "  print(xb)\r\n",
        "  print(yb)\r\n",
        "  break"
      ],
      "execution_count": null,
      "outputs": [
        {
          "output_type": "stream",
          "text": [
            "tensor([[102.,  43.,  37.],\n",
            "        [ 68.,  96.,  71.],\n",
            "        [ 73.,  67.,  43.],\n",
            "        [103.,  43.,  36.],\n",
            "        [ 91.,  88.,  64.]])\n",
            "tensor([[ 22.,  37.],\n",
            "        [104., 118.],\n",
            "        [ 56.,  70.],\n",
            "        [ 20.,  38.],\n",
            "        [ 81., 101.]])\n"
          ],
          "name": "stdout"
        }
      ]
    },
    {
      "cell_type": "markdown",
      "metadata": {
        "id": "DGN8NLba4JPJ"
      },
      "source": [
        "In each iteration, the data loader returns one batch of data with the given batch size. If `shuffle` is set to `True`, it shuffles the training data before creating batches. Shuffling helps randomize the input to the optimization algorithm, leading to a faster reduction in the loss."
      ]
    },
    {
      "cell_type": "markdown",
      "metadata": {
        "id": "wq-T1Gyx4Qsp"
      },
      "source": [
        "## nn.Linear\r\n",
        "Instead of initializing the weights & biases manually, we can define the model using the `nn.Linear` class from PyTorch, which does it automatically."
      ]
    },
    {
      "cell_type": "code",
      "metadata": {
        "colab": {
          "base_uri": "https://localhost:8080/"
        },
        "id": "ZXk34z6b36pl",
        "outputId": "e590e346-edfb-451e-88eb-8f0f386df792"
      },
      "source": [
        "# Define Model\r\n",
        "model = nn.Linear(3, 2)\r\n",
        "print(model.weight)\r\n",
        "print(model.bias)"
      ],
      "execution_count": null,
      "outputs": [
        {
          "output_type": "stream",
          "text": [
            "Parameter containing:\n",
            "tensor([[-0.3816, -0.3297,  0.0636],\n",
            "        [ 0.5067,  0.2913,  0.5445]], requires_grad=True)\n",
            "Parameter containing:\n",
            "tensor([ 0.1066, -0.0643], requires_grad=True)\n"
          ],
          "name": "stdout"
        }
      ]
    },
    {
      "cell_type": "markdown",
      "metadata": {
        "id": "xAPLDwLb4mur"
      },
      "source": [
        "PyTorch models also have a helpful `.parameters` method, which returns a list containing all the weights and bias matrices present in the model. For our linear regression model, we have one weight matrix and one bias matrix."
      ]
    },
    {
      "cell_type": "code",
      "metadata": {
        "colab": {
          "base_uri": "https://localhost:8080/"
        },
        "id": "Vsbc3dZ-59Ld",
        "outputId": "989ed878-bb45-4f87-e2f0-cf1d5716881a"
      },
      "source": [
        "# Parameters\r\n",
        "list(model.parameters())"
      ],
      "execution_count": null,
      "outputs": [
        {
          "output_type": "execute_result",
          "data": {
            "text/plain": [
              "[Parameter containing:\n",
              " tensor([[-0.3816, -0.3297,  0.0636],\n",
              "         [ 0.5067,  0.2913,  0.5445]], requires_grad=True),\n",
              " Parameter containing:\n",
              " tensor([ 0.1066, -0.0643], requires_grad=True)]"
            ]
          },
          "metadata": {
            "tags": []
          },
          "execution_count": 33
        }
      ]
    },
    {
      "cell_type": "code",
      "metadata": {
        "colab": {
          "base_uri": "https://localhost:8080/"
        },
        "id": "JHW4BoJP6C63",
        "outputId": "d38ddfa2-82cf-4516-e047-881b51660002"
      },
      "source": [
        "# Generate Predictions\r\n",
        "preds = model(inputs)\r\n",
        "preds"
      ],
      "execution_count": null,
      "outputs": [
        {
          "output_type": "execute_result",
          "data": {
            "text/plain": [
              "tensor([[-47.1063,  79.8521],\n",
              "        [-59.5640, 106.5235],\n",
              "        [-73.5872, 114.6299],\n",
              "        [-50.6390,  84.2873],\n",
              "        [-53.4263, 100.9741],\n",
              "        [-47.1581,  80.0675],\n",
              "        [-59.1707, 106.7766],\n",
              "        [-73.9051, 115.6811],\n",
              "        [-50.5872,  84.0719],\n",
              "        [-52.9812, 101.0119],\n",
              "        [-46.7130,  80.1053],\n",
              "        [-59.6158, 106.7388],\n",
              "        [-73.9805, 114.3767],\n",
              "        [-51.0841,  84.2495],\n",
              "        [-53.3745, 100.7587]], grad_fn=<AddmmBackward>)"
            ]
          },
          "metadata": {
            "tags": []
          },
          "execution_count": 34
        }
      ]
    },
    {
      "cell_type": "markdown",
      "metadata": {
        "id": "QZYj5JHX6SgR"
      },
      "source": [
        "## Loss Function\r\n",
        "Instead of defining a loss function manually, we can use the built-in loss function `mse_loss`."
      ]
    },
    {
      "cell_type": "code",
      "metadata": {
        "id": "0G4tMmUj6Pot"
      },
      "source": [
        "import torch.nn.functional as F"
      ],
      "execution_count": null,
      "outputs": []
    },
    {
      "cell_type": "markdown",
      "metadata": {
        "id": "iWyTnxex6fl1"
      },
      "source": [
        "The `nn.functional` package contains many useful loss functions and several other utilities."
      ]
    },
    {
      "cell_type": "code",
      "metadata": {
        "id": "4h1gvxZV6i0b"
      },
      "source": [
        "# Define loss function\r\n",
        "loss_fn = F.mse_loss"
      ],
      "execution_count": null,
      "outputs": []
    },
    {
      "cell_type": "code",
      "metadata": {
        "colab": {
          "base_uri": "https://localhost:8080/"
        },
        "id": "boto_okr64bP",
        "outputId": "ec023cfd-b1f0-41f9-cc44-56c06071c274"
      },
      "source": [
        "loss = loss_fn(model(inputs), targets)\r\n",
        "print(loss)"
      ],
      "execution_count": null,
      "outputs": [
        {
          "output_type": "stream",
          "text": [
            "tensor(9993.7129, grad_fn=<MseLossBackward>)\n"
          ],
          "name": "stdout"
        }
      ]
    },
    {
      "cell_type": "markdown",
      "metadata": {
        "id": "dq_p_DM87CSJ"
      },
      "source": [
        "## Optimizer\r\n",
        "Instead of manually manipulating the model's weights & biases using gradients, we can use the optimizer `optim.SGD`. SGD is short for \"stochastic gradient descent\". The term *stochastic* indicates that samples are selected in random batches instead of as a single group."
      ]
    },
    {
      "cell_type": "code",
      "metadata": {
        "id": "CXaD5F7d7RhW"
      },
      "source": [
        "# Define OPtimizer\r\n",
        "opt = torch.optim.SGD(model.parameters(), lr = 1e-5)"
      ],
      "execution_count": null,
      "outputs": []
    },
    {
      "cell_type": "markdown",
      "metadata": {
        "id": "I7Wva4Af7lSh"
      },
      "source": [
        "Note that `model.parameters()` is passed as an argument to `optim.SGD` so that the optimizer knows which matrices should be modified during the update step. Also, we can specify a learning rate that controls the amount by which the parameters are modified."
      ]
    },
    {
      "cell_type": "markdown",
      "metadata": {
        "id": "42GZNWlr7umH"
      },
      "source": [
        "## Train the model\r\n",
        "We are now ready to train the model. We'll follow the same process to implement gradient descent:\r\n",
        "\r\n",
        "1. Generate predictions\r\n",
        "\r\n",
        "2. Calculate the loss\r\n",
        "\r\n",
        "3. Compute gradients w.r.t the weights and biases\r\n",
        "\r\n",
        "4. Adjust the weights by subtracting a small quantity proportional to the gradient\r\n",
        "\r\n",
        "5. Reset the gradients to zero\r\n",
        "\r\n",
        "The only change is that we'll work batches of data instead of processing the entire training data in every iteration. Let's define a utility function `fit` that trains the model for a given number of epochs."
      ]
    },
    {
      "cell_type": "code",
      "metadata": {
        "id": "sJ1ejMtL7412"
      },
      "source": [
        "# Utility function to train the model\r\n",
        "def fit(num_epochs, model, loss_fn, opt, train_dl):\r\n",
        "\r\n",
        "  for epoch in range(num_epochs):\r\n",
        "    for xb, yb in train_dl:\r\n",
        "      # Generate predictions\r\n",
        "      pred = model(xb)\r\n",
        "\r\n",
        "      # Calculate loss\r\n",
        "      loss = loss_fn(pred, yb)\r\n",
        "\r\n",
        "      # Compute gradients\r\n",
        "      loss.backward()\r\n",
        "\r\n",
        "      # Update parameters using gradients\r\n",
        "      opt.step()\r\n",
        "\r\n",
        "      # Reset gradients to zero\r\n",
        "      opt.zero_grad()\r\n",
        "    \r\n",
        "    if (epoch+1) % 10 == 0:\r\n",
        "       print('Epoch [{}/{}], Loss: {:.4f}'.format(epoch+1, num_epochs, loss.item()))\r\n"
      ],
      "execution_count": null,
      "outputs": []
    },
    {
      "cell_type": "markdown",
      "metadata": {
        "id": "Zrrsvm-L-ClI"
      },
      "source": [
        "Some things to note above:\r\n",
        "\r\n",
        "* We use the data loader defined earlier to get batches of data for every iteration.\r\n",
        "\r\n",
        "* Instead of updating parameters (weights and biases) manually, we use `opt.step` to perform the update and `opt.zero_grad` to reset the gradients to zero.\r\n",
        "\r\n",
        "* We've also added a log statement that prints the loss from the last batch of data for every 10th epoch to track training progress. `loss.item` returns the actual value stored in the loss tensor.\r\n",
        "\r\n",
        "Let's train the model for 100 epochs."
      ]
    },
    {
      "cell_type": "code",
      "metadata": {
        "colab": {
          "base_uri": "https://localhost:8080/"
        },
        "id": "QIvprfpc-Ob8",
        "outputId": "8538dc0b-ecc9-4f41-9010-7e27c3856f01"
      },
      "source": [
        "fit(100, model, loss_fn, opt, train_dl)"
      ],
      "execution_count": null,
      "outputs": [
        {
          "output_type": "stream",
          "text": [
            "Epoch [10/100], Loss: 322.0905\n",
            "Epoch [20/100], Loss: 276.0595\n",
            "Epoch [30/100], Loss: 266.3441\n",
            "Epoch [40/100], Loss: 122.9957\n",
            "Epoch [50/100], Loss: 99.7929\n",
            "Epoch [60/100], Loss: 46.3808\n",
            "Epoch [70/100], Loss: 72.7059\n",
            "Epoch [80/100], Loss: 16.3982\n",
            "Epoch [90/100], Loss: 47.3540\n",
            "Epoch [100/100], Loss: 13.1727\n"
          ],
          "name": "stdout"
        }
      ]
    },
    {
      "cell_type": "code",
      "metadata": {
        "colab": {
          "base_uri": "https://localhost:8080/"
        },
        "id": "ciMTl-9m-Zlz",
        "outputId": "89c7cbdd-305f-4417-8dc3-592a4f127cbd"
      },
      "source": [
        "# Generate predictions\r\n",
        "preds = model(inputs)\r\n",
        "preds"
      ],
      "execution_count": null,
      "outputs": [
        {
          "output_type": "execute_result",
          "data": {
            "text/plain": [
              "tensor([[ 57.9696,  71.6711],\n",
              "        [ 81.9134,  99.8957],\n",
              "        [116.6362, 132.4541],\n",
              "        [ 26.7020,  44.8881],\n",
              "        [ 98.2553, 113.1881],\n",
              "        [ 56.8733,  70.7521],\n",
              "        [ 81.6914,  99.7870],\n",
              "        [116.9292, 132.9947],\n",
              "        [ 27.7984,  45.8071],\n",
              "        [ 99.1296, 113.9984],\n",
              "        [ 57.7476,  71.5624],\n",
              "        [ 80.8171,  98.9767],\n",
              "        [116.8583, 132.5628],\n",
              "        [ 25.8277,  44.0778],\n",
              "        [ 99.3517, 114.1071]], grad_fn=<AddmmBackward>)"
            ]
          },
          "metadata": {
            "tags": []
          },
          "execution_count": 42
        }
      ]
    },
    {
      "cell_type": "code",
      "metadata": {
        "colab": {
          "base_uri": "https://localhost:8080/"
        },
        "id": "JRKtxIAf-lpH",
        "outputId": "b6d005b7-324a-426e-e5cf-309c76d3e655"
      },
      "source": [
        "# Compare with targets\r\n",
        "targets"
      ],
      "execution_count": null,
      "outputs": [
        {
          "output_type": "execute_result",
          "data": {
            "text/plain": [
              "tensor([[ 56.,  70.],\n",
              "        [ 81., 101.],\n",
              "        [119., 133.],\n",
              "        [ 22.,  37.],\n",
              "        [103., 119.],\n",
              "        [ 57.,  69.],\n",
              "        [ 80., 102.],\n",
              "        [118., 132.],\n",
              "        [ 21.,  38.],\n",
              "        [104., 118.],\n",
              "        [ 57.,  69.],\n",
              "        [ 82., 100.],\n",
              "        [118., 134.],\n",
              "        [ 20.,  38.],\n",
              "        [102., 120.]])"
            ]
          },
          "metadata": {
            "tags": []
          },
          "execution_count": 43
        }
      ]
    }
  ]
}